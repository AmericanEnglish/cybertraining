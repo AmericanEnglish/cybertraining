{
 "cells": [
  {
   "cell_type": "code",
   "execution_count": 1,
   "metadata": {},
   "outputs": [
    {
     "name": "stdout",
     "output_type": "stream",
     "text": [
      "msl-01\n",
      "msl-02\n",
      "msl-03\n",
      "msl-04\n",
      "msl-06\n",
      "msl-07\n",
      "si10-00\n",
      "si10-01\n",
      "si10-04\n",
      "si10-05\n",
      "si10-06\n",
      "si10-07\n",
      "sst-00\n",
      "sst-03\n",
      "sst-04\n",
      "sst-05\n",
      "sst-06\n",
      "sst-07\n",
      "t2m-02\n",
      "t2m-03\n",
      "t2m-04\n",
      "t2m-06\n",
      "t2m-07\n",
      "t2m-08\n"
     ]
    }
   ],
   "source": [
    "import numpy as np\n",
    "import os\n",
    "\n",
    "# File inputs\n",
    "path='data/'\n",
    "f=sorted([f for f in os.listdir(path) if f.startswith('eof_ts')],key=str.lower)\n",
    "x=[None]*len(f)\n",
    "for i in np.arange(0,len(f)):\n",
    "    print(f[i][7:])\n",
    "    x[i]=np.loadtxt(path+f[i])"
   ]
  },
  {
   "cell_type": "code",
   "execution_count": 2,
   "metadata": {},
   "outputs": [
    {
     "name": "stdout",
     "output_type": "stream",
     "text": [
      "length=480\n",
      "reconstucted length=478\n",
      "reconstucted range: 2 ~ 479\n",
      "library: 3 ~ 476\n",
      "CCM delay: -3 ~ 3\n"
     ]
    }
   ],
   "source": [
    "# Hyperparameters for phase space reconstruction and CCM\n",
    "rlag=1\n",
    "rdim=3\n",
    "maxdelay=3\n",
    "\n",
    "# Parameters for phase space reconstruction and CCM\n",
    "length=x[0].shape[0]\n",
    "reconst_length=length-rlag*(rdim-1)\n",
    "reconst_range=np.arange(rlag*(rdim-1),length)\n",
    "delay=np.arange(-maxdelay,maxdelay+1)\n",
    "\n",
    "# The library for cross mapping is a little shorter\n",
    "lib=np.arange(max(rlag*(rdim-1),maxdelay),length-maxdelay)\n",
    "\n",
    "print('length='+str(length))\n",
    "print('reconstucted length='+str(reconst_length))\n",
    "print('reconstucted range: '+str(reconst_range[0])+' ~ '+str(reconst_range[-1]))\n",
    "print('library: '+str(lib[0])+' ~ '+str(lib[-1]))\n",
    "print('CCM delay: '+str(delay[0])+' ~ '+str(delay[-1]))"
   ]
  },
  {
   "cell_type": "code",
   "execution_count": 4,
   "metadata": {},
   "outputs": [],
   "source": [
    "import sys\n",
    "from scipy.spatial.distance import cdist\n",
    "from scipy.stats import pearsonr\n",
    "import csv\n",
    "\n",
    "# Write outputs to a .csv file\n",
    "with open('ccm_python.csv',mode='w') as output_file:\n",
    "    ccm_writer=csv.writer(output_file,delimiter=',')\n",
    "    ccm_writer.writerow(['Effect','Cause','Timelag','Strength','Method'])\n",
    "\n",
    "    # CCM computation\n",
    "    for j in np.arange(0,len(f)):\n",
    "    \n",
    "        # Phase space reconstruction for the effect variable x[j]\n",
    "        reconst=np.zeros([reconst_length,rdim])\n",
    "        for d in np.arange(0,rdim):\n",
    "            reconst[:,d]=x[j][d*rlag:d*rlag+reconst_length]\n",
    "\n",
    "        # Compute Euclidean distances in the reconstructed phase space\n",
    "        dist=cdist(reconst[lib-rlag*(rdim-1),:],reconst[lib-rlag*(rdim-1),:])\n",
    "    \n",
    "        # Exclude the pair of identical phase points\n",
    "        for k in np.arange(0,len(lib)):\n",
    "            dist[k,k]=sys.maxsize\n",
    "                \n",
    "        # Find the rdim+1 nearest neighbors and assign weights\n",
    "        index=np.argsort(dist,axis=0)\n",
    "        sort_dist=np.sort(dist,axis=0)\n",
    "        weight=np.exp(-sort_dist[:rdim+1]/sort_dist[0])\n",
    "    \n",
    "        for i in np.arange(0,len(f)):\n",
    "        \n",
    "            # The first dimension is {correlation coefficient, p-value};\n",
    "            # the second dimension is delay.\n",
    "            cmskill=np.zeros([2,len(delay)])\n",
    "            for l in np.arange(0,len(delay)):\n",
    "                estimate=np.average(x[i][lib[index[:rdim+1]]-delay[l]],axis=0,weights=weight)\n",
    "                cmskill[:,l]=pearsonr(estimate,x[i][lib-delay[l]])\n",
    "                \n",
    "            # Find the optimal delay and corresponding CCM skill\n",
    "            idx=np.argsort(cmskill[1,:])\n",
    "            optdelay=delay[idx[0]]\n",
    "            p=cmskill[1,idx[0]]\n",
    "            \n",
    "            # Only preserve meaningful and significant results\n",
    "            if optdelay>0 and p<0.05:\n",
    "                ccm_writer.writerow([f[j][7:],f[i][7:],str(optdelay),str(p),'CCM'])"
   ]
  },
  {
   "cell_type": "code",
   "execution_count": null,
   "metadata": {},
   "outputs": [],
   "source": []
  }
 ],
 "metadata": {
  "kernelspec": {
   "display_name": "Python 3",
   "language": "python",
   "name": "python3"
  },
  "language_info": {
   "codemirror_mode": {
    "name": "ipython",
    "version": 3
   },
   "file_extension": ".py",
   "mimetype": "text/x-python",
   "name": "python",
   "nbconvert_exporter": "python",
   "pygments_lexer": "ipython3",
   "version": "3.7.1"
  }
 },
 "nbformat": 4,
 "nbformat_minor": 2
}
